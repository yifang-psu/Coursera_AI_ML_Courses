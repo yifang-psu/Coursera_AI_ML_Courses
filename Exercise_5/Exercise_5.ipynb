{
 "cells": [
  {
   "cell_type": "markdown",
   "metadata": {},
   "source": [
    "#### Machine Learning: Programming Exercise 5:\n",
    "##### Regularized Linear Regression and Bias v.s. Variance"
   ]
  },
  {
   "cell_type": "markdown",
   "metadata": {},
   "source": [
    "#### 1. Regularized Linear Regression\n",
    "In the first half of the exercise, you will implement regularized linear regression to predict the amount of water flowing out of a dam using the change of water level in a reservoir. In the next half, you will go through some diagnostics of debugging learning algorithms and examine the effects of bias v.s.\n",
    "variance."
   ]
  },
  {
   "cell_type": "markdown",
   "metadata": {},
   "source": [
    "#### 1.1 Visualizing the dataset\n",
    "We will begin by visualizing the dataset containing historical records on the change in the water level, x, and the amount of water flowing out of the dam, $y$. <br>\n",
    "\n",
    "* This dataset is divided into three parts:\n",
    "    * A training set that your model will learn on: $X$, $y$\n",
    "    * A cross validation set for determining the regularization parameter: Xval, yval\n",
    "    * A test set for evaluating performance. These are “unseen” examples which your model did not see during training: Xtest, ytest <br> </p>\n",
    "\n",
    "* The next step of ex5.m will plot the training data (Figure 1). In the following parts, you will implement linear regression and use that to fit a straight line to the data and plot learning curves. Following that, you will\n",
    "implement polynomial regression to find a better fit to the data."
   ]
  },
  {
   "cell_type": "markdown",
   "metadata": {},
   "source": []
  },
  {
   "cell_type": "code",
   "execution_count": null,
   "metadata": {},
   "outputs": [],
   "source": []
  }
 ],
 "metadata": {
  "kernelspec": {
   "display_name": "Python 3.10.6 64-bit",
   "language": "python",
   "name": "python3"
  },
  "language_info": {
   "name": "python",
   "version": "3.10.6"
  },
  "orig_nbformat": 4,
  "vscode": {
   "interpreter": {
    "hash": "6cfbce7448a337a4bc266e2a2428fd630309c702187c033e2002f81c608168b6"
   }
  }
 },
 "nbformat": 4,
 "nbformat_minor": 2
}
